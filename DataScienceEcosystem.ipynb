{
 "cells": [
  {
   "cell_type": "markdown",
   "id": "62e0571a-2fd9-4b4c-81f2-c3791021649e",
   "metadata": {},
   "source": [
    "# Data Science Tools and Ecosystem"
   ]
  },
  {
   "cell_type": "markdown",
   "id": "7d86ade5-c909-49dc-b397-c986dc56d3bc",
   "metadata": {},
   "source": [
    "In this notebook, Data Science Tools and Ecosystem are summarized."
   ]
  },
  {
   "cell_type": "markdown",
   "id": "0957d9b9-89a4-4073-92a4-1442c354147f",
   "metadata": {},
   "source": [
    "Some of the popular languages that Data Scientists use are:"
   ]
  },
  {
   "cell_type": "markdown",
   "id": "6fb1fd93-2eb7-430b-a680-ac5a19394033",
   "metadata": {},
   "source": [
    "- Python\n",
    "- R\n",
    "- SQL"
   ]
  },
  {
   "cell_type": "markdown",
   "id": "b6a5131e-016e-4c24-b628-eded480074d4",
   "metadata": {},
   "source": [
    "Some of the commonly used libraries used by Data Scientists include:"
   ]
  },
  {
   "cell_type": "markdown",
   "id": "41131e1a-5dff-44e1-b37f-31a7ecf7707c",
   "metadata": {},
   "source": [
    "- Pandas\n",
    "- Numpy\n",
    "- Scikit"
   ]
  },
  {
   "cell_type": "markdown",
   "id": "f20088df-394c-4216-9261-de537d9d72e3",
   "metadata": {},
   "source": [
    "| Data Science Tools |\n",
    "|--------------------|\n",
    "|Hadoop|\n",
    "|MongoDB|\n",
    "|Apache Airflow|\n"
   ]
  },
  {
   "cell_type": "markdown",
   "id": "d3814c0e-4539-4b23-9ca7-461f4c63d142",
   "metadata": {},
   "source": [
    "### Below are a few examples of evaluating arithmetic expressions in Python"
   ]
  },
  {
   "cell_type": "markdown",
   "id": "80a3c449-ac61-469a-a6da-21e7437914ee",
   "metadata": {},
   "source": [
    "This a simple arithmetic expression to mutiply then add integers:"
   ]
  },
  {
   "cell_type": "code",
   "execution_count": 6,
   "id": "050c1969-4689-48ac-93a7-95066eba97bd",
   "metadata": {},
   "outputs": [
    {
     "data": {
      "text/plain": [
       "17"
      ]
     },
     "execution_count": 6,
     "metadata": {},
     "output_type": "execute_result"
    }
   ],
   "source": [
    "(3*4)+5"
   ]
  },
  {
   "cell_type": "markdown",
   "id": "33ba212b-6f99-44cb-85b4-13de53936307",
   "metadata": {},
   "source": [
    "This will convert 200 minutes to hours by diving by 60"
   ]
  },
  {
   "cell_type": "code",
   "execution_count": 7,
   "id": "3de4cb25-36d2-4516-b013-2d8175bf72e4",
   "metadata": {},
   "outputs": [
    {
     "data": {
      "text/plain": [
       "3.3333333333333335"
      ]
     },
     "execution_count": 7,
     "metadata": {},
     "output_type": "execute_result"
    }
   ],
   "source": [
    "200/60"
   ]
  },
  {
   "cell_type": "markdown",
   "id": "9d5a06e3-425a-4f0c-a107-4bb70bd5ea44",
   "metadata": {},
   "source": [
    "**Objectives**\n",
    "\n",
    "- List popular languages for data science\n",
    "- List commonly used libraries for data science-\n",
    "- Perform simple arithmetic expressions to multiply, add, and divide\n"
   ]
  },
  {
   "cell_type": "markdown",
   "id": "f7af7bab-eccc-4590-80f8-caeb19c6cb17",
   "metadata": {},
   "source": [
    "## Author\n",
    "Devlin"
   ]
  },
  {
   "cell_type": "code",
   "execution_count": null,
   "id": "833a6984-0f51-4431-96af-9cbc614c8ee0",
   "metadata": {},
   "outputs": [],
   "source": []
  }
 ],
 "metadata": {
  "kernelspec": {
   "display_name": "Python 3 (ipykernel)",
   "language": "python",
   "name": "python3"
  },
  "language_info": {
   "codemirror_mode": {
    "name": "ipython",
    "version": 3
   },
   "file_extension": ".py",
   "mimetype": "text/x-python",
   "name": "python",
   "nbconvert_exporter": "python",
   "pygments_lexer": "ipython3",
   "version": "3.11.7"
  }
 },
 "nbformat": 4,
 "nbformat_minor": 5
}
